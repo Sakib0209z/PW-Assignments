{
  "nbformat": 4,
  "nbformat_minor": 0,
  "metadata": {
    "colab": {
      "provenance": []
    },
    "kernelspec": {
      "name": "python3",
      "display_name": "Python 3"
    },
    "language_info": {
      "name": "python"
    }
  },
  "cells": [
    {
      "cell_type": "code",
      "execution_count": null,
      "metadata": {
        "id": "dlwVevJvI__X"
      },
      "outputs": [],
      "source": []
    },
    {
      "cell_type": "markdown",
      "source": [
        "1.What is Python, and why is it popular?\n",
        "\n",
        "  -Python is a high-level, interpreted programming language known for its readability, simplicity, and versatility. It is popular due to its ease of learning, extensive libraries, and wide range of applications, from web development to data science and AI.\n",
        "\n",
        "2.What is an interpreter in Python?\n",
        "\n",
        "  -An interpreter in Python is a program that executes Python code line by line, converting it into machine-executable instructions dynamically\n",
        "\n",
        "3.What are pre-defined keywords in Python?\n",
        "\n",
        "  -Pre-defined keywords in Python are reserved words that have special meanings, such as if, else, while, for, def, class, etc\n",
        "\n",
        "4.Can keywords be used as variable names?\n",
        "\n",
        "  -No, keywords cannot be used as variable names because they are reserved for specific functionalities in Python\n",
        "\n",
        "5.What is mutability in Python?\n",
        "\n",
        "  -Mutability in Python refers to whether an object’s state (its values) can be changed after creation.\n",
        "\n",
        "6.Why are lists mutable, but tuples are immutable?\n",
        "\n",
        "  -Lists are mutable because their elements can be modified after creation, whereas tuples are immutable, meaning their elements cannot be changed once defined.\n",
        "\n",
        "7.What is the difference between “==” and “is” operators in Python?\n",
        "\n",
        "  -== checks for value equality (whether two objects have the same data), while is checks for identity equality (whether two objects refer to the same memory location)\n",
        "\n",
        "8.What are logical operators in Python?\n",
        "\n",
        "  -Logical operators in Python include and, or, and not, which are used to perform logical operations on boolean values.\n",
        "\n",
        "9.What is type casting in Python?\n",
        "\n",
        "  -Type casting in Python is converting a variable from one data type to another, such as from int to float.\n",
        "\n",
        "10.What is the difference between implicit and explicit type casting?\n",
        "\n",
        "  -Implicit type casting is done automatically by Python (e.g., int to float in 3 + 2.5), while explicit type casting requires manually converting data types using functions like int(), float(), or str()\n",
        "\n",
        "11.What is the purpose of conditional statements in Python?\n",
        "\n",
        "  -Conditional statements allow decision-making in Python, enabling different code executions based on conditions (if, elif, else)\n",
        "\n",
        "12.How does the elif statement work?\n",
        "\n",
        "  -The elif statement provides additional conditions after if and before else, executing the first true condition encountered\n",
        "\n",
        "13.What is the difference between for and while loops?\n",
        "\n",
        "  -A for loop is used when the number of iterations is known, while a while loop runs until a condition is met\n",
        "\n",
        "14.Describe a scenario where a while loop is more suitable than a for loop.\n",
        "\n",
        "  -A while loop is more suitable when the number of iterations is unknown beforehand, such as waiting for user input to match a specific value."
      ],
      "metadata": {
        "id": "YsvZU7-cJ4Qp"
      }
    },
    {
      "cell_type": "markdown",
      "source": [],
      "metadata": {
        "id": "7y0_OndwJ3uv"
      }
    },
    {
      "cell_type": "code",
      "source": [
        "#1 Write a Python program to print \"Hello, World!\n",
        "print(\"Hello, World!\")"
      ],
      "metadata": {
        "colab": {
          "base_uri": "https://localhost:8080/"
        },
        "id": "63AMfc90Lj0p",
        "outputId": "77531308-93ea-4e5a-8fce-1c0662ac351c"
      },
      "execution_count": 1,
      "outputs": [
        {
          "output_type": "stream",
          "name": "stdout",
          "text": [
            "Hello, World!\n"
          ]
        }
      ]
    },
    {
      "cell_type": "code",
      "source": [
        "#2 Write a Python program that displays your name and age\n",
        "name = \"Sakib\"\n",
        "age = 22\n",
        "print(\"Name:\", name)\n",
        "print(\"Age:\", age)\n"
      ],
      "metadata": {
        "colab": {
          "base_uri": "https://localhost:8080/"
        },
        "id": "a3QBJjQ2L8pw",
        "outputId": "5a919a95-6114-40c8-c0b1-257c5eaa9e0a"
      },
      "execution_count": 2,
      "outputs": [
        {
          "output_type": "stream",
          "name": "stdout",
          "text": [
            "Name: Sakib\n",
            "Age: 22\n"
          ]
        }
      ]
    },
    {
      "cell_type": "code",
      "source": [
        "#3 Write code to print all the pre-defined keywords in Python using the keyword library\n",
        "import keyword\n",
        "print(keyword.kwlist)"
      ],
      "metadata": {
        "colab": {
          "base_uri": "https://localhost:8080/"
        },
        "id": "jhT0ZXFxL8vI",
        "outputId": "a921e7f6-2d47-4a8e-d5c1-c11ea85dfc56"
      },
      "execution_count": 3,
      "outputs": [
        {
          "output_type": "stream",
          "name": "stdout",
          "text": [
            "['False', 'None', 'True', 'and', 'as', 'assert', 'async', 'await', 'break', 'class', 'continue', 'def', 'del', 'elif', 'else', 'except', 'finally', 'for', 'from', 'global', 'if', 'import', 'in', 'is', 'lambda', 'nonlocal', 'not', 'or', 'pass', 'raise', 'return', 'try', 'while', 'with', 'yield']\n"
          ]
        }
      ]
    },
    {
      "cell_type": "code",
      "source": [
        "#4 Write a program that checks if a given word is a Python keyword\n",
        "import keyword\n",
        "l=keyword.kwlist\n",
        "word = input(\"Enter a word: \")\n",
        "if word in l:\n",
        "    print(f\"{word} is a Python keyword.\")\n",
        "else:\n",
        "    print(f\"{word} is not a Python keyword.\")\n",
        "\n"
      ],
      "metadata": {
        "colab": {
          "base_uri": "https://localhost:8080/"
        },
        "id": "Jo2pYkp5L8xw",
        "outputId": "8bfcd58f-dfca-4091-8e9b-fe912dac93ad"
      },
      "execution_count": 4,
      "outputs": [
        {
          "output_type": "stream",
          "name": "stdout",
          "text": [
            "Enter a word: False\n",
            "False is a Python keyword.\n"
          ]
        }
      ]
    },
    {
      "cell_type": "code",
      "source": [
        "#5 Create a list and tuple in Python, and demonstrate how attempting to change an element works differently\n",
        "#for each\n",
        "list1 = [1, 2, 3, 4, 5]\n",
        "tuple1 = (1, 2, 3, 4, 5)\n",
        "list1[2] = 10\n",
        "print(list1)\n",
        "tuple1[2] = 10\n",
        "print(tuple1)"
      ],
      "metadata": {
        "colab": {
          "base_uri": "https://localhost:8080/",
          "height": 211
        },
        "id": "TegL3NaCL81B",
        "outputId": "1f1f696a-4996-4600-ec8b-33864e70a971"
      },
      "execution_count": 5,
      "outputs": [
        {
          "output_type": "stream",
          "name": "stdout",
          "text": [
            "[1, 2, 10, 4, 5]\n"
          ]
        },
        {
          "output_type": "error",
          "ename": "TypeError",
          "evalue": "'tuple' object does not support item assignment",
          "traceback": [
            "\u001b[0;31m---------------------------------------------------------------------------\u001b[0m",
            "\u001b[0;31mTypeError\u001b[0m                                 Traceback (most recent call last)",
            "\u001b[0;32m<ipython-input-5-6900c59e74ee>\u001b[0m in \u001b[0;36m<cell line: 0>\u001b[0;34m()\u001b[0m\n\u001b[1;32m      5\u001b[0m \u001b[0mlist1\u001b[0m\u001b[0;34m[\u001b[0m\u001b[0;36m2\u001b[0m\u001b[0;34m]\u001b[0m \u001b[0;34m=\u001b[0m \u001b[0;36m10\u001b[0m\u001b[0;34m\u001b[0m\u001b[0;34m\u001b[0m\u001b[0m\n\u001b[1;32m      6\u001b[0m \u001b[0mprint\u001b[0m\u001b[0;34m(\u001b[0m\u001b[0mlist1\u001b[0m\u001b[0;34m)\u001b[0m\u001b[0;34m\u001b[0m\u001b[0;34m\u001b[0m\u001b[0m\n\u001b[0;32m----> 7\u001b[0;31m \u001b[0mtuple1\u001b[0m\u001b[0;34m[\u001b[0m\u001b[0;36m2\u001b[0m\u001b[0;34m]\u001b[0m \u001b[0;34m=\u001b[0m \u001b[0;36m10\u001b[0m\u001b[0;34m\u001b[0m\u001b[0;34m\u001b[0m\u001b[0m\n\u001b[0m\u001b[1;32m      8\u001b[0m \u001b[0mprint\u001b[0m\u001b[0;34m(\u001b[0m\u001b[0mtuple1\u001b[0m\u001b[0;34m)\u001b[0m\u001b[0;34m\u001b[0m\u001b[0;34m\u001b[0m\u001b[0m\n",
            "\u001b[0;31mTypeError\u001b[0m: 'tuple' object does not support item assignment"
          ]
        }
      ]
    },
    {
      "cell_type": "code",
      "source": [
        "#6 Write a function to demonstrate the behavior of mutable and immutable arguments\n",
        "def modify_values(num, num_list):\n",
        "    num += 10  # Modifying an immutable type (integer)\n",
        "    num_list.append(10)  # Modifying a mutable type (list)\n",
        "    print(\"Inside function - num:\", num)\n",
        "    print(\"Inside function - num_list:\", num_list)\n",
        "\n",
        "# Immutable argument (integer)\n",
        "x = 5\n",
        "# Mutable argument (list)\n",
        "y = [1, 2, 3]\n",
        "\n",
        "print(\"Before function call - x:\", x)\n",
        "print(\"Before function call - y:\", y)\n",
        "\n",
        "modify_values(x, y)\n",
        "\n",
        "print(\"After function call - x:\", x)  # x remains unchanged\n",
        "print(\"After function call - y:\", y)  # y gets modified\n"
      ],
      "metadata": {
        "colab": {
          "base_uri": "https://localhost:8080/"
        },
        "id": "ytcLlE4tL83a",
        "outputId": "991155df-0da0-40cf-aa18-319c5ccf46d0"
      },
      "execution_count": 6,
      "outputs": [
        {
          "output_type": "stream",
          "name": "stdout",
          "text": [
            "Before function call - x: 5\n",
            "Before function call - y: [1, 2, 3]\n",
            "Inside function - num: 15\n",
            "Inside function - num_list: [1, 2, 3, 10]\n",
            "After function call - x: 5\n",
            "After function call - y: [1, 2, 3, 10]\n"
          ]
        }
      ]
    },
    {
      "cell_type": "code",
      "source": [
        "#7Write a function to demonstrate the behavior of mutable and immutable arguments\n",
        "def modify_values(num, num_list):\n",
        "    num += 10  # Modifying an immutable type (integer)\n",
        "    num_list.append(10)  # Modifying a mutable type (list)\n",
        "    print(\"Inside function - num:\", num)\n",
        "    print(\"Inside function - num_list:\", num_list)\n",
        "\n",
        "# Immutable argument (integer)\n",
        "x = 5\n",
        "# Mutable argument (list)\n",
        "y = [1, 2, 3]\n",
        "\n",
        "print(\"Before function call - x:\", x)\n",
        "print(\"Before function call - y:\", y)\n",
        "\n",
        "modify_values(x, y)\n",
        "\n",
        "print(\"After function call - x:\", x)  # x remains unchanged\n",
        "print(\"After function call - y:\", y)  # y gets modified"
      ],
      "metadata": {
        "colab": {
          "base_uri": "https://localhost:8080/"
        },
        "id": "a83j-G9NL85b",
        "outputId": "2a396782-7351-42fe-d62a-9309fc863bc0"
      },
      "execution_count": 7,
      "outputs": [
        {
          "output_type": "stream",
          "name": "stdout",
          "text": [
            "Before function call - x: 5\n",
            "Before function call - y: [1, 2, 3]\n",
            "Inside function - num: 15\n",
            "Inside function - num_list: [1, 2, 3, 10]\n",
            "After function call - x: 5\n",
            "After function call - y: [1, 2, 3, 10]\n"
          ]
        }
      ]
    },
    {
      "cell_type": "code",
      "source": [
        "#8Write a program to demonstrate the use of logical operators\n",
        "a = True\n",
        "b = False\n",
        "print(\"a=True\")\n",
        "print(\"b=False\")\n",
        "print(f\"a and b {a and b}\")\n",
        "print(f\"a or b {a or b}\")\n",
        "print(f\"not a {not a}\")"
      ],
      "metadata": {
        "colab": {
          "base_uri": "https://localhost:8080/"
        },
        "id": "KwSFHad5L87q",
        "outputId": "6650ca0a-ad1a-4142-f6e7-98290204a769"
      },
      "execution_count": 10,
      "outputs": [
        {
          "output_type": "stream",
          "name": "stdout",
          "text": [
            "a=True\n",
            "b=False\n",
            "a and b False\n",
            "a or b True\n",
            "not a False\n"
          ]
        }
      ]
    },
    {
      "cell_type": "markdown",
      "source": [],
      "metadata": {
        "id": "PuFFeRQNUwbL"
      }
    },
    {
      "cell_type": "code",
      "source": [
        "from re import X\n",
        "#9 Write a Python program to convert user input from string to integer, float, and boolean types\n",
        "x = input(\"Enter a value: \")\n",
        "print(type(int(x)))\n",
        "print(type(float(x)))\n",
        "print(type(bool(x)))\n"
      ],
      "metadata": {
        "colab": {
          "base_uri": "https://localhost:8080/"
        },
        "id": "s1g8FQS5MDur",
        "outputId": "63aa7772-7d59-4006-9387-f2711396849b"
      },
      "execution_count": 11,
      "outputs": [
        {
          "output_type": "stream",
          "name": "stdout",
          "text": [
            "Enter a value: 5\n",
            "<class 'int'>\n",
            "<class 'float'>\n",
            "<class 'bool'>\n"
          ]
        }
      ]
    },
    {
      "cell_type": "code",
      "source": [
        "#10 Write code to demonstrate type casting with list elements\n",
        "\n",
        "# List with mixed data types\n",
        "data = [\"10\", \"20\", \"30\", \"40.5\", \"50.7\"]\n",
        "int_list = [int(float(i)) for i in data]\n",
        "float_list = [float(i) for i in data]\n",
        "str_list = [str(i) for i in float_list]\n",
        "\n",
        "print(\"Original list:\", data)\n",
        "print(\"List after converting to integers:\", int_list)\n",
        "print(\"List after converting to floats:\", float_list)\n",
        "print(\"List after converting back to strings:\", str_list)\n"
      ],
      "metadata": {
        "colab": {
          "base_uri": "https://localhost:8080/"
        },
        "id": "aQzqMSh3MESp",
        "outputId": "ddb0a54c-b86a-4e65-ad43-b6236dc59eee"
      },
      "execution_count": 17,
      "outputs": [
        {
          "output_type": "stream",
          "name": "stdout",
          "text": [
            "Original list: ['10', '20', '30', '40.5', '50.7']\n",
            "List after converting to integers: [10, 20, 30, 40, 50]\n",
            "List after converting to floats: [10.0, 20.0, 30.0, 40.5, 50.7]\n",
            "List after converting back to strings: ['10.0', '20.0', '30.0', '40.5', '50.7']\n"
          ]
        }
      ]
    },
    {
      "cell_type": "code",
      "source": [
        "#11 Write a program that checks if a number is positive, negative, or zero\n",
        "num = float(input(\"Enter a number: \"))\n",
        "if num > 0:\n",
        "    print(\"The number is positive.\")\n",
        "elif num < 0:\n",
        "    print(\"The number is negative.\")\n",
        "else:\n",
        "    print(\"The number is zero.\")\n",
        "\n"
      ],
      "metadata": {
        "colab": {
          "base_uri": "https://localhost:8080/"
        },
        "id": "7cO8SpcZMEZZ",
        "outputId": "41ba7ec4-86ca-41bd-8aad-c9129905e65d"
      },
      "execution_count": 12,
      "outputs": [
        {
          "output_type": "stream",
          "name": "stdout",
          "text": [
            "Enter a number: 2\n",
            "The number is positive.\n"
          ]
        }
      ]
    },
    {
      "cell_type": "code",
      "source": [
        "#12 Write a for loop to print numbers from 1 to 10\n",
        "for i in range(1, 11):\n",
        "    print(i)"
      ],
      "metadata": {
        "colab": {
          "base_uri": "https://localhost:8080/"
        },
        "id": "ZovObMYUMEgR",
        "outputId": "5568ca5e-11e8-4269-e43e-493ff8242f60"
      },
      "execution_count": 13,
      "outputs": [
        {
          "output_type": "stream",
          "name": "stdout",
          "text": [
            "1\n",
            "2\n",
            "3\n",
            "4\n",
            "5\n",
            "6\n",
            "7\n",
            "8\n",
            "9\n",
            "10\n"
          ]
        }
      ]
    },
    {
      "cell_type": "code",
      "source": [
        "#13 Write a Python program to find the sum of all even numbers between 1 and 50\n",
        "sum = 0\n",
        "for i in range(2, 51, 2):\n",
        "    sum += i\n",
        "print(sum)"
      ],
      "metadata": {
        "colab": {
          "base_uri": "https://localhost:8080/"
        },
        "id": "MQgX7vO6MEnL",
        "outputId": "25bb6137-d196-478a-cb4c-d7a19d38284a"
      },
      "execution_count": 14,
      "outputs": [
        {
          "output_type": "stream",
          "name": "stdout",
          "text": [
            "650\n"
          ]
        }
      ]
    },
    {
      "cell_type": "code",
      "source": [
        "#14 Write a program to reverse a string using a while loop\n",
        "string = input(\"Enter a string: \")\n",
        "reversed_string = \"\"\n",
        "index = len(string) - 1\n",
        "while index >= 0:\n",
        "    reversed_string += string[index]\n",
        "    index -= 1\n",
        "print(\"Reversed string:\", reversed_string)"
      ],
      "metadata": {
        "colab": {
          "base_uri": "https://localhost:8080/"
        },
        "id": "jQTfgC0mMEty",
        "outputId": "78056b13-344a-4d43-8254-4027cb36fce6"
      },
      "execution_count": 15,
      "outputs": [
        {
          "output_type": "stream",
          "name": "stdout",
          "text": [
            "Enter a string: Sakib\n",
            "Reversed string: bikaS\n"
          ]
        }
      ]
    },
    {
      "cell_type": "code",
      "source": [
        "#15 Write a Python program to calculate the factorial of a number provided by the user using a while loop\n",
        "num = int(input(\"Enter a number: \"))\n",
        "factorial = 1\n",
        "i = 1\n",
        "while i <= num:\n",
        "    factorial *= i\n",
        "    i += 1\n",
        "print(f\"The factorial of {num} is {factorial}\")\n"
      ],
      "metadata": {
        "colab": {
          "base_uri": "https://localhost:8080/"
        },
        "id": "OcmfuZA6MEzU",
        "outputId": "b2b03b7d-6bba-4e2a-ee68-83be01eb6c6d"
      },
      "execution_count": 16,
      "outputs": [
        {
          "output_type": "stream",
          "name": "stdout",
          "text": [
            "Enter a number: 5\n",
            "The factorial of 5 is 120\n"
          ]
        }
      ]
    }
  ]
}